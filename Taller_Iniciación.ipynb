{
  "nbformat": 4,
  "nbformat_minor": 0,
  "metadata": {
    "colab": {
      "provenance": [],
      "include_colab_link": true
    },
    "kernelspec": {
      "name": "python3",
      "display_name": "Python 3"
    },
    "language_info": {
      "name": "python"
    }
  },
  "cells": [
    {
      "cell_type": "markdown",
      "metadata": {
        "id": "view-in-github",
        "colab_type": "text"
      },
      "source": [
        "<a href=\"https://colab.research.google.com/github/Dannap77/Talento-tech/blob/Talento-tec/Taller_Iniciaci%C3%B3n.ipynb\" target=\"_parent\"><img src=\"https://colab.research.google.com/assets/colab-badge.svg\" alt=\"Open In Colab\"/></a>"
      ]
    },
    {
      "cell_type": "code",
      "execution_count": null,
      "metadata": {
        "id": "tGpbaheRkYJ6"
      },
      "outputs": [],
      "source": [
        "#importar libreria para manipulacion de datos\n",
        "import pandas as pd"
      ]
    },
    {
      "cell_type": "code",
      "source": [
        "from google.colab import drive\n",
        "drive.mount('/content/drive')"
      ],
      "metadata": {
        "colab": {
          "base_uri": "https://localhost:8080/"
        },
        "id": "mvEI4aumc_dn",
        "outputId": "0b972f04-342e-48dd-af27-1b08d80d43ab"
      },
      "execution_count": null,
      "outputs": [
        {
          "output_type": "stream",
          "name": "stdout",
          "text": [
            "Mounted at /content/drive\n"
          ]
        }
      ]
    },
    {
      "cell_type": "code",
      "source": [
        "#leer archivo en formato de excel\n",
        "df_ventas = pd.read_excel(\"/example_ventas.xlsx\")"
      ],
      "metadata": {
        "id": "hhO6M1aZpmaS",
        "colab": {
          "base_uri": "https://localhost:8080/"
        },
        "outputId": "cfd6add7-cabc-4c8f-e677-9c6019ac1235"
      },
      "execution_count": 9,
      "outputs": [
        {
          "output_type": "stream",
          "name": "stderr",
          "text": [
            "/usr/local/lib/python3.10/dist-packages/openpyxl/worksheet/_reader.py:329: UserWarning: Unknown extension is not supported and will be removed\n",
            "  warn(msg)\n"
          ]
        }
      ]
    },
    {
      "cell_type": "code",
      "source": [
        "df_ventas"
      ],
      "metadata": {
        "id": "3QOSRfXZsemx",
        "outputId": "83f95ce6-1370-457f-ee19-df52f572f53e",
        "colab": {
          "base_uri": "https://localhost:8080/",
          "height": 645
        }
      },
      "execution_count": 10,
      "outputs": [
        {
          "output_type": "execute_result",
          "data": {
            "text/plain": [
              "                  Fecha   Region      Producto Vendedor  Ventas\n",
              "0   2024-02-16 00:00:00    Oeste      Sistemas    Kevin   32855\n",
              "1   2024-02-05 00:00:00  Central      Sistemas    Karen   30633\n",
              "2   2024-02-17 00:00:00    Oeste      Sistemas     Sara   23151\n",
              "3   2024-02-04 00:00:00  Central      Sistemas    David   20098\n",
              "4   2024-02-10 00:00:00     Este      Sistemas      Ana   13531\n",
              "5   2024-02-11 00:00:00     Este      Sistemas    Lucas   13374\n",
              "6   2024-02-03 00:00:00  Central  Dispositivos    Karen   12948\n",
              "7   2024-02-02 00:00:00  Central  Dispositivos    David   11420\n",
              "8   2024-02-14 00:00:00    Oeste  Dispositivos    Kevin   10711\n",
              "9   2024-02-08 00:00:00     Este  Dispositivos      Ana   10348\n",
              "10  2024-02-06 00:00:00     Este    Accesorios      Ana    9323\n",
              "11  2024-02-09 00:00:00     Este  Dispositivos    Lucas    9312\n",
              "12  2024-02-15 00:00:00    Oeste  Dispositivos     Sara    8780\n",
              "13  2024-01-31 00:00:00  Central    Accesorios    David    8287\n",
              "14  2024-02-07 00:00:00     Este    Accesorios    Lucas    7667\n",
              "15  2024-02-01 00:00:00  Central    Accesorios    Karen    6909\n",
              "16  2024-02-13 00:00:00    Oeste    Accesorios     Sara    5442\n",
              "17  2024-02-12 00:00:00    Oeste    Accesorios    Kevin    4744\n",
              "18                Total      NaN           NaN      NaN  239533"
            ],
            "text/html": [
              "\n",
              "  <div id=\"df-c0c6e1bf-dc7d-466d-b169-92a3c3eb5cf3\" class=\"colab-df-container\">\n",
              "    <div>\n",
              "<style scoped>\n",
              "    .dataframe tbody tr th:only-of-type {\n",
              "        vertical-align: middle;\n",
              "    }\n",
              "\n",
              "    .dataframe tbody tr th {\n",
              "        vertical-align: top;\n",
              "    }\n",
              "\n",
              "    .dataframe thead th {\n",
              "        text-align: right;\n",
              "    }\n",
              "</style>\n",
              "<table border=\"1\" class=\"dataframe\">\n",
              "  <thead>\n",
              "    <tr style=\"text-align: right;\">\n",
              "      <th></th>\n",
              "      <th>Fecha</th>\n",
              "      <th>Region</th>\n",
              "      <th>Producto</th>\n",
              "      <th>Vendedor</th>\n",
              "      <th>Ventas</th>\n",
              "    </tr>\n",
              "  </thead>\n",
              "  <tbody>\n",
              "    <tr>\n",
              "      <th>0</th>\n",
              "      <td>2024-02-16 00:00:00</td>\n",
              "      <td>Oeste</td>\n",
              "      <td>Sistemas</td>\n",
              "      <td>Kevin</td>\n",
              "      <td>32855</td>\n",
              "    </tr>\n",
              "    <tr>\n",
              "      <th>1</th>\n",
              "      <td>2024-02-05 00:00:00</td>\n",
              "      <td>Central</td>\n",
              "      <td>Sistemas</td>\n",
              "      <td>Karen</td>\n",
              "      <td>30633</td>\n",
              "    </tr>\n",
              "    <tr>\n",
              "      <th>2</th>\n",
              "      <td>2024-02-17 00:00:00</td>\n",
              "      <td>Oeste</td>\n",
              "      <td>Sistemas</td>\n",
              "      <td>Sara</td>\n",
              "      <td>23151</td>\n",
              "    </tr>\n",
              "    <tr>\n",
              "      <th>3</th>\n",
              "      <td>2024-02-04 00:00:00</td>\n",
              "      <td>Central</td>\n",
              "      <td>Sistemas</td>\n",
              "      <td>David</td>\n",
              "      <td>20098</td>\n",
              "    </tr>\n",
              "    <tr>\n",
              "      <th>4</th>\n",
              "      <td>2024-02-10 00:00:00</td>\n",
              "      <td>Este</td>\n",
              "      <td>Sistemas</td>\n",
              "      <td>Ana</td>\n",
              "      <td>13531</td>\n",
              "    </tr>\n",
              "    <tr>\n",
              "      <th>5</th>\n",
              "      <td>2024-02-11 00:00:00</td>\n",
              "      <td>Este</td>\n",
              "      <td>Sistemas</td>\n",
              "      <td>Lucas</td>\n",
              "      <td>13374</td>\n",
              "    </tr>\n",
              "    <tr>\n",
              "      <th>6</th>\n",
              "      <td>2024-02-03 00:00:00</td>\n",
              "      <td>Central</td>\n",
              "      <td>Dispositivos</td>\n",
              "      <td>Karen</td>\n",
              "      <td>12948</td>\n",
              "    </tr>\n",
              "    <tr>\n",
              "      <th>7</th>\n",
              "      <td>2024-02-02 00:00:00</td>\n",
              "      <td>Central</td>\n",
              "      <td>Dispositivos</td>\n",
              "      <td>David</td>\n",
              "      <td>11420</td>\n",
              "    </tr>\n",
              "    <tr>\n",
              "      <th>8</th>\n",
              "      <td>2024-02-14 00:00:00</td>\n",
              "      <td>Oeste</td>\n",
              "      <td>Dispositivos</td>\n",
              "      <td>Kevin</td>\n",
              "      <td>10711</td>\n",
              "    </tr>\n",
              "    <tr>\n",
              "      <th>9</th>\n",
              "      <td>2024-02-08 00:00:00</td>\n",
              "      <td>Este</td>\n",
              "      <td>Dispositivos</td>\n",
              "      <td>Ana</td>\n",
              "      <td>10348</td>\n",
              "    </tr>\n",
              "    <tr>\n",
              "      <th>10</th>\n",
              "      <td>2024-02-06 00:00:00</td>\n",
              "      <td>Este</td>\n",
              "      <td>Accesorios</td>\n",
              "      <td>Ana</td>\n",
              "      <td>9323</td>\n",
              "    </tr>\n",
              "    <tr>\n",
              "      <th>11</th>\n",
              "      <td>2024-02-09 00:00:00</td>\n",
              "      <td>Este</td>\n",
              "      <td>Dispositivos</td>\n",
              "      <td>Lucas</td>\n",
              "      <td>9312</td>\n",
              "    </tr>\n",
              "    <tr>\n",
              "      <th>12</th>\n",
              "      <td>2024-02-15 00:00:00</td>\n",
              "      <td>Oeste</td>\n",
              "      <td>Dispositivos</td>\n",
              "      <td>Sara</td>\n",
              "      <td>8780</td>\n",
              "    </tr>\n",
              "    <tr>\n",
              "      <th>13</th>\n",
              "      <td>2024-01-31 00:00:00</td>\n",
              "      <td>Central</td>\n",
              "      <td>Accesorios</td>\n",
              "      <td>David</td>\n",
              "      <td>8287</td>\n",
              "    </tr>\n",
              "    <tr>\n",
              "      <th>14</th>\n",
              "      <td>2024-02-07 00:00:00</td>\n",
              "      <td>Este</td>\n",
              "      <td>Accesorios</td>\n",
              "      <td>Lucas</td>\n",
              "      <td>7667</td>\n",
              "    </tr>\n",
              "    <tr>\n",
              "      <th>15</th>\n",
              "      <td>2024-02-01 00:00:00</td>\n",
              "      <td>Central</td>\n",
              "      <td>Accesorios</td>\n",
              "      <td>Karen</td>\n",
              "      <td>6909</td>\n",
              "    </tr>\n",
              "    <tr>\n",
              "      <th>16</th>\n",
              "      <td>2024-02-13 00:00:00</td>\n",
              "      <td>Oeste</td>\n",
              "      <td>Accesorios</td>\n",
              "      <td>Sara</td>\n",
              "      <td>5442</td>\n",
              "    </tr>\n",
              "    <tr>\n",
              "      <th>17</th>\n",
              "      <td>2024-02-12 00:00:00</td>\n",
              "      <td>Oeste</td>\n",
              "      <td>Accesorios</td>\n",
              "      <td>Kevin</td>\n",
              "      <td>4744</td>\n",
              "    </tr>\n",
              "    <tr>\n",
              "      <th>18</th>\n",
              "      <td>Total</td>\n",
              "      <td>NaN</td>\n",
              "      <td>NaN</td>\n",
              "      <td>NaN</td>\n",
              "      <td>239533</td>\n",
              "    </tr>\n",
              "  </tbody>\n",
              "</table>\n",
              "</div>\n",
              "    <div class=\"colab-df-buttons\">\n",
              "\n",
              "  <div class=\"colab-df-container\">\n",
              "    <button class=\"colab-df-convert\" onclick=\"convertToInteractive('df-c0c6e1bf-dc7d-466d-b169-92a3c3eb5cf3')\"\n",
              "            title=\"Convert this dataframe to an interactive table.\"\n",
              "            style=\"display:none;\">\n",
              "\n",
              "  <svg xmlns=\"http://www.w3.org/2000/svg\" height=\"24px\" viewBox=\"0 -960 960 960\">\n",
              "    <path d=\"M120-120v-720h720v720H120Zm60-500h600v-160H180v160Zm220 220h160v-160H400v160Zm0 220h160v-160H400v160ZM180-400h160v-160H180v160Zm440 0h160v-160H620v160ZM180-180h160v-160H180v160Zm440 0h160v-160H620v160Z\"/>\n",
              "  </svg>\n",
              "    </button>\n",
              "\n",
              "  <style>\n",
              "    .colab-df-container {\n",
              "      display:flex;\n",
              "      gap: 12px;\n",
              "    }\n",
              "\n",
              "    .colab-df-convert {\n",
              "      background-color: #E8F0FE;\n",
              "      border: none;\n",
              "      border-radius: 50%;\n",
              "      cursor: pointer;\n",
              "      display: none;\n",
              "      fill: #1967D2;\n",
              "      height: 32px;\n",
              "      padding: 0 0 0 0;\n",
              "      width: 32px;\n",
              "    }\n",
              "\n",
              "    .colab-df-convert:hover {\n",
              "      background-color: #E2EBFA;\n",
              "      box-shadow: 0px 1px 2px rgba(60, 64, 67, 0.3), 0px 1px 3px 1px rgba(60, 64, 67, 0.15);\n",
              "      fill: #174EA6;\n",
              "    }\n",
              "\n",
              "    .colab-df-buttons div {\n",
              "      margin-bottom: 4px;\n",
              "    }\n",
              "\n",
              "    [theme=dark] .colab-df-convert {\n",
              "      background-color: #3B4455;\n",
              "      fill: #D2E3FC;\n",
              "    }\n",
              "\n",
              "    [theme=dark] .colab-df-convert:hover {\n",
              "      background-color: #434B5C;\n",
              "      box-shadow: 0px 1px 3px 1px rgba(0, 0, 0, 0.15);\n",
              "      filter: drop-shadow(0px 1px 2px rgba(0, 0, 0, 0.3));\n",
              "      fill: #FFFFFF;\n",
              "    }\n",
              "  </style>\n",
              "\n",
              "    <script>\n",
              "      const buttonEl =\n",
              "        document.querySelector('#df-c0c6e1bf-dc7d-466d-b169-92a3c3eb5cf3 button.colab-df-convert');\n",
              "      buttonEl.style.display =\n",
              "        google.colab.kernel.accessAllowed ? 'block' : 'none';\n",
              "\n",
              "      async function convertToInteractive(key) {\n",
              "        const element = document.querySelector('#df-c0c6e1bf-dc7d-466d-b169-92a3c3eb5cf3');\n",
              "        const dataTable =\n",
              "          await google.colab.kernel.invokeFunction('convertToInteractive',\n",
              "                                                    [key], {});\n",
              "        if (!dataTable) return;\n",
              "\n",
              "        const docLinkHtml = 'Like what you see? Visit the ' +\n",
              "          '<a target=\"_blank\" href=https://colab.research.google.com/notebooks/data_table.ipynb>data table notebook</a>'\n",
              "          + ' to learn more about interactive tables.';\n",
              "        element.innerHTML = '';\n",
              "        dataTable['output_type'] = 'display_data';\n",
              "        await google.colab.output.renderOutput(dataTable, element);\n",
              "        const docLink = document.createElement('div');\n",
              "        docLink.innerHTML = docLinkHtml;\n",
              "        element.appendChild(docLink);\n",
              "      }\n",
              "    </script>\n",
              "  </div>\n",
              "\n",
              "\n",
              "<div id=\"df-7b123acb-b191-4f67-a602-5a68bdadf239\">\n",
              "  <button class=\"colab-df-quickchart\" onclick=\"quickchart('df-7b123acb-b191-4f67-a602-5a68bdadf239')\"\n",
              "            title=\"Suggest charts\"\n",
              "            style=\"display:none;\">\n",
              "\n",
              "<svg xmlns=\"http://www.w3.org/2000/svg\" height=\"24px\"viewBox=\"0 0 24 24\"\n",
              "     width=\"24px\">\n",
              "    <g>\n",
              "        <path d=\"M19 3H5c-1.1 0-2 .9-2 2v14c0 1.1.9 2 2 2h14c1.1 0 2-.9 2-2V5c0-1.1-.9-2-2-2zM9 17H7v-7h2v7zm4 0h-2V7h2v10zm4 0h-2v-4h2v4z\"/>\n",
              "    </g>\n",
              "</svg>\n",
              "  </button>\n",
              "\n",
              "<style>\n",
              "  .colab-df-quickchart {\n",
              "      --bg-color: #E8F0FE;\n",
              "      --fill-color: #1967D2;\n",
              "      --hover-bg-color: #E2EBFA;\n",
              "      --hover-fill-color: #174EA6;\n",
              "      --disabled-fill-color: #AAA;\n",
              "      --disabled-bg-color: #DDD;\n",
              "  }\n",
              "\n",
              "  [theme=dark] .colab-df-quickchart {\n",
              "      --bg-color: #3B4455;\n",
              "      --fill-color: #D2E3FC;\n",
              "      --hover-bg-color: #434B5C;\n",
              "      --hover-fill-color: #FFFFFF;\n",
              "      --disabled-bg-color: #3B4455;\n",
              "      --disabled-fill-color: #666;\n",
              "  }\n",
              "\n",
              "  .colab-df-quickchart {\n",
              "    background-color: var(--bg-color);\n",
              "    border: none;\n",
              "    border-radius: 50%;\n",
              "    cursor: pointer;\n",
              "    display: none;\n",
              "    fill: var(--fill-color);\n",
              "    height: 32px;\n",
              "    padding: 0;\n",
              "    width: 32px;\n",
              "  }\n",
              "\n",
              "  .colab-df-quickchart:hover {\n",
              "    background-color: var(--hover-bg-color);\n",
              "    box-shadow: 0 1px 2px rgba(60, 64, 67, 0.3), 0 1px 3px 1px rgba(60, 64, 67, 0.15);\n",
              "    fill: var(--button-hover-fill-color);\n",
              "  }\n",
              "\n",
              "  .colab-df-quickchart-complete:disabled,\n",
              "  .colab-df-quickchart-complete:disabled:hover {\n",
              "    background-color: var(--disabled-bg-color);\n",
              "    fill: var(--disabled-fill-color);\n",
              "    box-shadow: none;\n",
              "  }\n",
              "\n",
              "  .colab-df-spinner {\n",
              "    border: 2px solid var(--fill-color);\n",
              "    border-color: transparent;\n",
              "    border-bottom-color: var(--fill-color);\n",
              "    animation:\n",
              "      spin 1s steps(1) infinite;\n",
              "  }\n",
              "\n",
              "  @keyframes spin {\n",
              "    0% {\n",
              "      border-color: transparent;\n",
              "      border-bottom-color: var(--fill-color);\n",
              "      border-left-color: var(--fill-color);\n",
              "    }\n",
              "    20% {\n",
              "      border-color: transparent;\n",
              "      border-left-color: var(--fill-color);\n",
              "      border-top-color: var(--fill-color);\n",
              "    }\n",
              "    30% {\n",
              "      border-color: transparent;\n",
              "      border-left-color: var(--fill-color);\n",
              "      border-top-color: var(--fill-color);\n",
              "      border-right-color: var(--fill-color);\n",
              "    }\n",
              "    40% {\n",
              "      border-color: transparent;\n",
              "      border-right-color: var(--fill-color);\n",
              "      border-top-color: var(--fill-color);\n",
              "    }\n",
              "    60% {\n",
              "      border-color: transparent;\n",
              "      border-right-color: var(--fill-color);\n",
              "    }\n",
              "    80% {\n",
              "      border-color: transparent;\n",
              "      border-right-color: var(--fill-color);\n",
              "      border-bottom-color: var(--fill-color);\n",
              "    }\n",
              "    90% {\n",
              "      border-color: transparent;\n",
              "      border-bottom-color: var(--fill-color);\n",
              "    }\n",
              "  }\n",
              "</style>\n",
              "\n",
              "  <script>\n",
              "    async function quickchart(key) {\n",
              "      const quickchartButtonEl =\n",
              "        document.querySelector('#' + key + ' button');\n",
              "      quickchartButtonEl.disabled = true;  // To prevent multiple clicks.\n",
              "      quickchartButtonEl.classList.add('colab-df-spinner');\n",
              "      try {\n",
              "        const charts = await google.colab.kernel.invokeFunction(\n",
              "            'suggestCharts', [key], {});\n",
              "      } catch (error) {\n",
              "        console.error('Error during call to suggestCharts:', error);\n",
              "      }\n",
              "      quickchartButtonEl.classList.remove('colab-df-spinner');\n",
              "      quickchartButtonEl.classList.add('colab-df-quickchart-complete');\n",
              "    }\n",
              "    (() => {\n",
              "      let quickchartButtonEl =\n",
              "        document.querySelector('#df-7b123acb-b191-4f67-a602-5a68bdadf239 button');\n",
              "      quickchartButtonEl.style.display =\n",
              "        google.colab.kernel.accessAllowed ? 'block' : 'none';\n",
              "    })();\n",
              "  </script>\n",
              "</div>\n",
              "\n",
              "  <div id=\"id_28e2fe24-e660-4e3c-b4a0-faababa2d523\">\n",
              "    <style>\n",
              "      .colab-df-generate {\n",
              "        background-color: #E8F0FE;\n",
              "        border: none;\n",
              "        border-radius: 50%;\n",
              "        cursor: pointer;\n",
              "        display: none;\n",
              "        fill: #1967D2;\n",
              "        height: 32px;\n",
              "        padding: 0 0 0 0;\n",
              "        width: 32px;\n",
              "      }\n",
              "\n",
              "      .colab-df-generate:hover {\n",
              "        background-color: #E2EBFA;\n",
              "        box-shadow: 0px 1px 2px rgba(60, 64, 67, 0.3), 0px 1px 3px 1px rgba(60, 64, 67, 0.15);\n",
              "        fill: #174EA6;\n",
              "      }\n",
              "\n",
              "      [theme=dark] .colab-df-generate {\n",
              "        background-color: #3B4455;\n",
              "        fill: #D2E3FC;\n",
              "      }\n",
              "\n",
              "      [theme=dark] .colab-df-generate:hover {\n",
              "        background-color: #434B5C;\n",
              "        box-shadow: 0px 1px 3px 1px rgba(0, 0, 0, 0.15);\n",
              "        filter: drop-shadow(0px 1px 2px rgba(0, 0, 0, 0.3));\n",
              "        fill: #FFFFFF;\n",
              "      }\n",
              "    </style>\n",
              "    <button class=\"colab-df-generate\" onclick=\"generateWithVariable('df_ventas')\"\n",
              "            title=\"Generate code using this dataframe.\"\n",
              "            style=\"display:none;\">\n",
              "\n",
              "  <svg xmlns=\"http://www.w3.org/2000/svg\" height=\"24px\"viewBox=\"0 0 24 24\"\n",
              "       width=\"24px\">\n",
              "    <path d=\"M7,19H8.4L18.45,9,17,7.55,7,17.6ZM5,21V16.75L18.45,3.32a2,2,0,0,1,2.83,0l1.4,1.43a1.91,1.91,0,0,1,.58,1.4,1.91,1.91,0,0,1-.58,1.4L9.25,21ZM18.45,9,17,7.55Zm-12,3A5.31,5.31,0,0,0,4.9,8.1,5.31,5.31,0,0,0,1,6.5,5.31,5.31,0,0,0,4.9,4.9,5.31,5.31,0,0,0,6.5,1,5.31,5.31,0,0,0,8.1,4.9,5.31,5.31,0,0,0,12,6.5,5.46,5.46,0,0,0,6.5,12Z\"/>\n",
              "  </svg>\n",
              "    </button>\n",
              "    <script>\n",
              "      (() => {\n",
              "      const buttonEl =\n",
              "        document.querySelector('#id_28e2fe24-e660-4e3c-b4a0-faababa2d523 button.colab-df-generate');\n",
              "      buttonEl.style.display =\n",
              "        google.colab.kernel.accessAllowed ? 'block' : 'none';\n",
              "\n",
              "      buttonEl.onclick = () => {\n",
              "        google.colab.notebook.generateWithVariable('df_ventas');\n",
              "      }\n",
              "      })();\n",
              "    </script>\n",
              "  </div>\n",
              "\n",
              "    </div>\n",
              "  </div>\n"
            ],
            "application/vnd.google.colaboratory.intrinsic+json": {
              "type": "dataframe",
              "variable_name": "df_ventas",
              "summary": "{\n  \"name\": \"df_ventas\",\n  \"rows\": 19,\n  \"fields\": [\n    {\n      \"column\": \"Fecha\",\n      \"properties\": {\n        \"dtype\": \"string\",\n        \"num_unique_values\": 19,\n        \"samples\": [\n          \"2024-02-16 00:00:00\",\n          \"2024-02-11 00:00:00\",\n          \"2024-02-09 00:00:00\"\n        ],\n        \"semantic_type\": \"\",\n        \"description\": \"\"\n      }\n    },\n    {\n      \"column\": \"Region\",\n      \"properties\": {\n        \"dtype\": \"category\",\n        \"num_unique_values\": 3,\n        \"samples\": [\n          \"Oeste\",\n          \"Central\",\n          \"Este\"\n        ],\n        \"semantic_type\": \"\",\n        \"description\": \"\"\n      }\n    },\n    {\n      \"column\": \"Producto\",\n      \"properties\": {\n        \"dtype\": \"category\",\n        \"num_unique_values\": 3,\n        \"samples\": [\n          \"Sistemas\",\n          \"Dispositivos\",\n          \"Accesorios\"\n        ],\n        \"semantic_type\": \"\",\n        \"description\": \"\"\n      }\n    },\n    {\n      \"column\": \"Vendedor\",\n      \"properties\": {\n        \"dtype\": \"category\",\n        \"num_unique_values\": 6,\n        \"samples\": [\n          \"Kevin\",\n          \"Karen\",\n          \"Lucas\"\n        ],\n        \"semantic_type\": \"\",\n        \"description\": \"\"\n      }\n    },\n    {\n      \"column\": \"Ventas\",\n      \"properties\": {\n        \"dtype\": \"number\",\n        \"std\": 52501,\n        \"min\": 4744,\n        \"max\": 239533,\n        \"num_unique_values\": 19,\n        \"samples\": [\n          32855,\n          13374,\n          9312\n        ],\n        \"semantic_type\": \"\",\n        \"description\": \"\"\n      }\n    }\n  ]\n}"
            }
          },
          "metadata": {},
          "execution_count": 10
        }
      ]
    },
    {
      "cell_type": "code",
      "source": [
        "print(\"Ejercicio 1: Mostrar las primeras filas del DataFrame\")\n",
        "print(df_ventas.head(5))\n"
      ],
      "metadata": {
        "id": "dsS158AhsgwN",
        "colab": {
          "base_uri": "https://localhost:8080/"
        },
        "outputId": "e75c3b88-0bb5-4e74-9255-c666065a7c28"
      },
      "execution_count": 11,
      "outputs": [
        {
          "output_type": "stream",
          "name": "stdout",
          "text": [
            "Ejercicio 1: Mostrar las primeras filas del DataFrame\n",
            "                 Fecha   Region  Producto Vendedor  Ventas\n",
            "0  2024-02-16 00:00:00    Oeste  Sistemas    Kevin   32855\n",
            "1  2024-02-05 00:00:00  Central  Sistemas    Karen   30633\n",
            "2  2024-02-17 00:00:00    Oeste  Sistemas     Sara   23151\n",
            "3  2024-02-04 00:00:00  Central  Sistemas    David   20098\n",
            "4  2024-02-10 00:00:00     Este  Sistemas      Ana   13531\n"
          ]
        }
      ]
    },
    {
      "cell_type": "code",
      "source": [
        "print(\"Ejercicio 2: Calcular el total de ventas por región\")\n",
        "ventas_por_region = df_ventas.groupby('Region')['Ventas'].sum()\n",
        "print(ventas_por_region)\n",
        "print(\"\\n\")\n",
        "print(df_ventas.head(10))\n"
      ],
      "metadata": {
        "colab": {
          "base_uri": "https://localhost:8080/"
        },
        "id": "ty9jYyZf2x7I",
        "outputId": "7c05af8c-bfb4-4822-930a-2921231dd788"
      },
      "execution_count": 12,
      "outputs": [
        {
          "output_type": "stream",
          "name": "stdout",
          "text": [
            "Ejercicio 2: Calcular el total de ventas por región\n",
            "Region\n",
            "Central    90295\n",
            "Este       63555\n",
            "Oeste      85683\n",
            "Name: Ventas, dtype: int64\n",
            "\n",
            "\n",
            "                 Fecha   Region      Producto Vendedor  Ventas\n",
            "0  2024-02-16 00:00:00    Oeste      Sistemas    Kevin   32855\n",
            "1  2024-02-05 00:00:00  Central      Sistemas    Karen   30633\n",
            "2  2024-02-17 00:00:00    Oeste      Sistemas     Sara   23151\n",
            "3  2024-02-04 00:00:00  Central      Sistemas    David   20098\n",
            "4  2024-02-10 00:00:00     Este      Sistemas      Ana   13531\n",
            "5  2024-02-11 00:00:00     Este      Sistemas    Lucas   13374\n",
            "6  2024-02-03 00:00:00  Central  Dispositivos    Karen   12948\n",
            "7  2024-02-02 00:00:00  Central  Dispositivos    David   11420\n",
            "8  2024-02-14 00:00:00    Oeste  Dispositivos    Kevin   10711\n",
            "9  2024-02-08 00:00:00     Este  Dispositivos      Ana   10348\n"
          ]
        }
      ]
    },
    {
      "cell_type": "code",
      "source": [
        "print(\"Ejercicio 3: Filtrar el DataFrame para mostrar solo las ventas realizadas por David\")\n",
        "ventas_david = df_ventas[df_ventas['Vendedor'] == 'David']\n",
        "print(ventas_david)\n"
      ],
      "metadata": {
        "colab": {
          "base_uri": "https://localhost:8080/"
        },
        "id": "75m97XYC20UW",
        "outputId": "1321f56c-f323-49bb-9e61-4bb80b09fc47"
      },
      "execution_count": 13,
      "outputs": [
        {
          "output_type": "stream",
          "name": "stdout",
          "text": [
            "Ejercicio 3: Filtrar el DataFrame para mostrar solo las ventas realizadas por David\n",
            "                  Fecha   Region      Producto Vendedor  Ventas\n",
            "3   2024-02-04 00:00:00  Central      Sistemas    David   20098\n",
            "7   2024-02-02 00:00:00  Central  Dispositivos    David   11420\n",
            "13  2024-01-31 00:00:00  Central    Accesorios    David    8287\n"
          ]
        }
      ]
    },
    {
      "cell_type": "code",
      "source": [
        "print(\"Ejercicio 4: Calcular el promedio de ventas por región\")\n",
        "ventas_por_producto = df_ventas.groupby('Region')['Ventas'].mean()\n",
        "print(ventas_por_producto)\n"
      ],
      "metadata": {
        "colab": {
          "base_uri": "https://localhost:8080/"
        },
        "id": "jpsmULuF23Qr",
        "outputId": "235c2879-06ee-497f-f140-8ca6d96c01a4"
      },
      "execution_count": 15,
      "outputs": [
        {
          "output_type": "stream",
          "name": "stdout",
          "text": [
            "Ejercicio 4: Calcular el promedio de ventas por región\n",
            "Region\n",
            "Central    15049.166667\n",
            "Este       10592.500000\n",
            "Oeste      14280.500000\n",
            "Name: Ventas, dtype: float64\n"
          ]
        }
      ]
    },
    {
      "cell_type": "code",
      "source": [
        "print(\"Ejercicio 5: Calcular el promedio de ventas por región con dos decimales\")\n",
        "ventas_por_producto = df_ventas.groupby('Region')['Ventas'].mean().round(2)\n",
        "print(ventas_por_producto)\n"
      ],
      "metadata": {
        "colab": {
          "base_uri": "https://localhost:8080/"
        },
        "id": "E1FK4JX128bA",
        "outputId": "fd0aa334-c2a8-4607-cf57-cded028e9b74"
      },
      "execution_count": 16,
      "outputs": [
        {
          "output_type": "stream",
          "name": "stdout",
          "text": [
            "Ejercicio 5: Calcular el promedio de ventas por región con dos decimales\n",
            "Region\n",
            "Central    15049.17\n",
            "Este       10592.50\n",
            "Oeste      14280.50\n",
            "Name: Ventas, dtype: float64\n"
          ]
        }
      ]
    },
    {
      "cell_type": "code",
      "source": [
        "print(\"Ejercicio 6: Ordenar el DataFrame por ventas en orden descendente\")\n",
        "df_ordenado = df_ventas.sort_values(by='Ventas', ascending=False)\n",
        "print(df_ordenado)\n"
      ],
      "metadata": {
        "colab": {
          "base_uri": "https://localhost:8080/"
        },
        "id": "PWb-ThTz3ACM",
        "outputId": "7dfef0e9-444a-4c05-bb47-7f7503c9c516"
      },
      "execution_count": 18,
      "outputs": [
        {
          "output_type": "stream",
          "name": "stdout",
          "text": [
            "Ejercicio 6: Ordenar el DataFrame por ventas en orden descendente\n",
            "                  Fecha   Region      Producto Vendedor  Ventas\n",
            "18                Total      NaN           NaN      NaN  239533\n",
            "0   2024-02-16 00:00:00    Oeste      Sistemas    Kevin   32855\n",
            "1   2024-02-05 00:00:00  Central      Sistemas    Karen   30633\n",
            "2   2024-02-17 00:00:00    Oeste      Sistemas     Sara   23151\n",
            "3   2024-02-04 00:00:00  Central      Sistemas    David   20098\n",
            "4   2024-02-10 00:00:00     Este      Sistemas      Ana   13531\n",
            "5   2024-02-11 00:00:00     Este      Sistemas    Lucas   13374\n",
            "6   2024-02-03 00:00:00  Central  Dispositivos    Karen   12948\n",
            "7   2024-02-02 00:00:00  Central  Dispositivos    David   11420\n",
            "8   2024-02-14 00:00:00    Oeste  Dispositivos    Kevin   10711\n",
            "9   2024-02-08 00:00:00     Este  Dispositivos      Ana   10348\n",
            "10  2024-02-06 00:00:00     Este    Accesorios      Ana    9323\n",
            "11  2024-02-09 00:00:00     Este  Dispositivos    Lucas    9312\n",
            "12  2024-02-15 00:00:00    Oeste  Dispositivos     Sara    8780\n",
            "13  2024-01-31 00:00:00  Central    Accesorios    David    8287\n",
            "14  2024-02-07 00:00:00     Este    Accesorios    Lucas    7667\n",
            "15  2024-02-01 00:00:00  Central    Accesorios    Karen    6909\n",
            "16  2024-02-13 00:00:00    Oeste    Accesorios     Sara    5442\n",
            "17  2024-02-12 00:00:00    Oeste    Accesorios    Kevin    4744\n"
          ]
        }
      ]
    },
    {
      "cell_type": "code",
      "source": [
        "print(\"Ejercicio 7: Filtrar las filas con ventas mayores a 10000\")\n",
        "df_filtrado = df_ventas[df_ventas['Ventas'] > 10000].sort_values(by='Ventas', ascending=True)\n",
        "print(df_filtrado)\n",
        "print(\"\\n\")\n"
      ],
      "metadata": {
        "colab": {
          "base_uri": "https://localhost:8080/"
        },
        "id": "tHDh_on93M5S",
        "outputId": "cf4b8f5c-f3dd-44c1-f7c6-ab4da8db9930"
      },
      "execution_count": 19,
      "outputs": [
        {
          "output_type": "stream",
          "name": "stdout",
          "text": [
            "Ejercicio 7: Filtrar las filas con ventas mayores a 10000\n",
            "                  Fecha   Region      Producto Vendedor  Ventas\n",
            "9   2024-02-08 00:00:00     Este  Dispositivos      Ana   10348\n",
            "8   2024-02-14 00:00:00    Oeste  Dispositivos    Kevin   10711\n",
            "7   2024-02-02 00:00:00  Central  Dispositivos    David   11420\n",
            "6   2024-02-03 00:00:00  Central  Dispositivos    Karen   12948\n",
            "5   2024-02-11 00:00:00     Este      Sistemas    Lucas   13374\n",
            "4   2024-02-10 00:00:00     Este      Sistemas      Ana   13531\n",
            "3   2024-02-04 00:00:00  Central      Sistemas    David   20098\n",
            "2   2024-02-17 00:00:00    Oeste      Sistemas     Sara   23151\n",
            "1   2024-02-05 00:00:00  Central      Sistemas    Karen   30633\n",
            "0   2024-02-16 00:00:00    Oeste      Sistemas    Kevin   32855\n",
            "18                Total      NaN           NaN      NaN  239533\n",
            "\n",
            "\n"
          ]
        }
      ]
    },
    {
      "cell_type": "code",
      "source": [
        "print(\"Ejercicio 8: Ordenar el DataFrame por ventas en orden descendente\")\n",
        "df_ordenado = df_ventas.sort_values(by='Ventas', ascending=False)\n",
        "print(df_ordenado)\n",
        "print(\"\\n\")\n"
      ],
      "metadata": {
        "id": "wxy-vu5c3Phg",
        "outputId": "790bf275-94ac-43c8-cfa6-f1cd641ff4fd",
        "colab": {
          "base_uri": "https://localhost:8080/"
        }
      },
      "execution_count": 20,
      "outputs": [
        {
          "output_type": "stream",
          "name": "stdout",
          "text": [
            "Ejercicio 8: Ordenar el DataFrame por ventas en orden descendente\n",
            "                  Fecha   Region      Producto Vendedor  Ventas\n",
            "18                Total      NaN           NaN      NaN  239533\n",
            "0   2024-02-16 00:00:00    Oeste      Sistemas    Kevin   32855\n",
            "1   2024-02-05 00:00:00  Central      Sistemas    Karen   30633\n",
            "2   2024-02-17 00:00:00    Oeste      Sistemas     Sara   23151\n",
            "3   2024-02-04 00:00:00  Central      Sistemas    David   20098\n",
            "4   2024-02-10 00:00:00     Este      Sistemas      Ana   13531\n",
            "5   2024-02-11 00:00:00     Este      Sistemas    Lucas   13374\n",
            "6   2024-02-03 00:00:00  Central  Dispositivos    Karen   12948\n",
            "7   2024-02-02 00:00:00  Central  Dispositivos    David   11420\n",
            "8   2024-02-14 00:00:00    Oeste  Dispositivos    Kevin   10711\n",
            "9   2024-02-08 00:00:00     Este  Dispositivos      Ana   10348\n",
            "10  2024-02-06 00:00:00     Este    Accesorios      Ana    9323\n",
            "11  2024-02-09 00:00:00     Este  Dispositivos    Lucas    9312\n",
            "12  2024-02-15 00:00:00    Oeste  Dispositivos     Sara    8780\n",
            "13  2024-01-31 00:00:00  Central    Accesorios    David    8287\n",
            "14  2024-02-07 00:00:00     Este    Accesorios    Lucas    7667\n",
            "15  2024-02-01 00:00:00  Central    Accesorios    Karen    6909\n",
            "16  2024-02-13 00:00:00    Oeste    Accesorios     Sara    5442\n",
            "17  2024-02-12 00:00:00    Oeste    Accesorios    Kevin    4744\n",
            "\n",
            "\n"
          ]
        }
      ]
    },
    {
      "cell_type": "code",
      "source": [
        "print(\"Ejercicio 9: Eliminar la columna 'Vendedor'\")\n",
        "df_sin_vendedor = df_ventas.drop(columns=['Vendedor'])\n",
        "print(df_sin_vendedor)\n",
        "print(\"\\n\")\n"
      ],
      "metadata": {
        "id": "Il6kuC853R1P",
        "outputId": "a35bb48f-aca5-4ea5-94f1-cb4f312f1a4d",
        "colab": {
          "base_uri": "https://localhost:8080/"
        }
      },
      "execution_count": 21,
      "outputs": [
        {
          "output_type": "stream",
          "name": "stdout",
          "text": [
            "Ejercicio 9: Eliminar la columna 'Vendedor'\n",
            "                  Fecha   Region      Producto  Ventas\n",
            "0   2024-02-16 00:00:00    Oeste      Sistemas   32855\n",
            "1   2024-02-05 00:00:00  Central      Sistemas   30633\n",
            "2   2024-02-17 00:00:00    Oeste      Sistemas   23151\n",
            "3   2024-02-04 00:00:00  Central      Sistemas   20098\n",
            "4   2024-02-10 00:00:00     Este      Sistemas   13531\n",
            "5   2024-02-11 00:00:00     Este      Sistemas   13374\n",
            "6   2024-02-03 00:00:00  Central  Dispositivos   12948\n",
            "7   2024-02-02 00:00:00  Central  Dispositivos   11420\n",
            "8   2024-02-14 00:00:00    Oeste  Dispositivos   10711\n",
            "9   2024-02-08 00:00:00     Este  Dispositivos   10348\n",
            "10  2024-02-06 00:00:00     Este    Accesorios    9323\n",
            "11  2024-02-09 00:00:00     Este  Dispositivos    9312\n",
            "12  2024-02-15 00:00:00    Oeste  Dispositivos    8780\n",
            "13  2024-01-31 00:00:00  Central    Accesorios    8287\n",
            "14  2024-02-07 00:00:00     Este    Accesorios    7667\n",
            "15  2024-02-01 00:00:00  Central    Accesorios    6909\n",
            "16  2024-02-13 00:00:00    Oeste    Accesorios    5442\n",
            "17  2024-02-12 00:00:00    Oeste    Accesorios    4744\n",
            "18                Total      NaN           NaN  239533\n",
            "\n",
            "\n"
          ]
        }
      ]
    }
  ]
}